{
 "metadata": {
  "language_info": {
   "codemirror_mode": {
    "name": "ipython",
    "version": 3
   },
   "file_extension": ".py",
   "mimetype": "text/x-python",
   "name": "python",
   "nbconvert_exporter": "python",
   "pygments_lexer": "ipython3",
   "version": "3.8.5-final"
  },
  "orig_nbformat": 2,
  "kernelspec": {
   "name": "python_defaultSpec_1598051730393",
   "display_name": "Python 3.8.5 32-bit"
  }
 },
 "nbformat": 4,
 "nbformat_minor": 2,
 "cells": [
  {
   "cell_type": "code",
   "execution_count": 1,
   "metadata": {},
   "outputs": [
    {
     "output_type": "execute_result",
     "data": {
      "text/plain": "   symboling  normalized-losses         make aspiration num-of-doors  \\\n0          3                122  alfa-romero        std          two   \n1          3                122  alfa-romero        std          two   \n2          1                122  alfa-romero        std          two   \n3          2                164         audi        std         four   \n4          2                164         audi        std         four   \n\n    body-style drive-wheels engine-location  wheel-base    length  ...  \\\n0  convertible          rwd           front        88.6  0.811148  ...   \n1  convertible          rwd           front        88.6  0.811148  ...   \n2    hatchback          rwd           front        94.5  0.822681  ...   \n3        sedan          fwd           front        99.8  0.848630  ...   \n4        sedan          4wd           front        99.4  0.848630  ...   \n\n   compression-ratio  horsepower  peak-rpm city-mpg highway-mpg    price  \\\n0                9.0       111.0    5000.0       21          27  13495.0   \n1                9.0       111.0    5000.0       21          27  16500.0   \n2                9.0       154.0    5000.0       19          26  16500.0   \n3               10.0       102.0    5500.0       24          30  13950.0   \n4                8.0       115.0    5500.0       18          22  17450.0   \n\n  city-L/100km  horsepower-binned  diesel  gas  \n0    11.190476             Medium       0    1  \n1    11.190476             Medium       0    1  \n2    12.368421             Medium       0    1  \n3     9.791667             Medium       0    1  \n4    13.055556             Medium       0    1  \n\n[5 rows x 29 columns]",
      "text/html": "<div>\n<style scoped>\n    .dataframe tbody tr th:only-of-type {\n        vertical-align: middle;\n    }\n\n    .dataframe tbody tr th {\n        vertical-align: top;\n    }\n\n    .dataframe thead th {\n        text-align: right;\n    }\n</style>\n<table border=\"1\" class=\"dataframe\">\n  <thead>\n    <tr style=\"text-align: right;\">\n      <th></th>\n      <th>symboling</th>\n      <th>normalized-losses</th>\n      <th>make</th>\n      <th>aspiration</th>\n      <th>num-of-doors</th>\n      <th>body-style</th>\n      <th>drive-wheels</th>\n      <th>engine-location</th>\n      <th>wheel-base</th>\n      <th>length</th>\n      <th>...</th>\n      <th>compression-ratio</th>\n      <th>horsepower</th>\n      <th>peak-rpm</th>\n      <th>city-mpg</th>\n      <th>highway-mpg</th>\n      <th>price</th>\n      <th>city-L/100km</th>\n      <th>horsepower-binned</th>\n      <th>diesel</th>\n      <th>gas</th>\n    </tr>\n  </thead>\n  <tbody>\n    <tr>\n      <th>0</th>\n      <td>3</td>\n      <td>122</td>\n      <td>alfa-romero</td>\n      <td>std</td>\n      <td>two</td>\n      <td>convertible</td>\n      <td>rwd</td>\n      <td>front</td>\n      <td>88.6</td>\n      <td>0.811148</td>\n      <td>...</td>\n      <td>9.0</td>\n      <td>111.0</td>\n      <td>5000.0</td>\n      <td>21</td>\n      <td>27</td>\n      <td>13495.0</td>\n      <td>11.190476</td>\n      <td>Medium</td>\n      <td>0</td>\n      <td>1</td>\n    </tr>\n    <tr>\n      <th>1</th>\n      <td>3</td>\n      <td>122</td>\n      <td>alfa-romero</td>\n      <td>std</td>\n      <td>two</td>\n      <td>convertible</td>\n      <td>rwd</td>\n      <td>front</td>\n      <td>88.6</td>\n      <td>0.811148</td>\n      <td>...</td>\n      <td>9.0</td>\n      <td>111.0</td>\n      <td>5000.0</td>\n      <td>21</td>\n      <td>27</td>\n      <td>16500.0</td>\n      <td>11.190476</td>\n      <td>Medium</td>\n      <td>0</td>\n      <td>1</td>\n    </tr>\n    <tr>\n      <th>2</th>\n      <td>1</td>\n      <td>122</td>\n      <td>alfa-romero</td>\n      <td>std</td>\n      <td>two</td>\n      <td>hatchback</td>\n      <td>rwd</td>\n      <td>front</td>\n      <td>94.5</td>\n      <td>0.822681</td>\n      <td>...</td>\n      <td>9.0</td>\n      <td>154.0</td>\n      <td>5000.0</td>\n      <td>19</td>\n      <td>26</td>\n      <td>16500.0</td>\n      <td>12.368421</td>\n      <td>Medium</td>\n      <td>0</td>\n      <td>1</td>\n    </tr>\n    <tr>\n      <th>3</th>\n      <td>2</td>\n      <td>164</td>\n      <td>audi</td>\n      <td>std</td>\n      <td>four</td>\n      <td>sedan</td>\n      <td>fwd</td>\n      <td>front</td>\n      <td>99.8</td>\n      <td>0.848630</td>\n      <td>...</td>\n      <td>10.0</td>\n      <td>102.0</td>\n      <td>5500.0</td>\n      <td>24</td>\n      <td>30</td>\n      <td>13950.0</td>\n      <td>9.791667</td>\n      <td>Medium</td>\n      <td>0</td>\n      <td>1</td>\n    </tr>\n    <tr>\n      <th>4</th>\n      <td>2</td>\n      <td>164</td>\n      <td>audi</td>\n      <td>std</td>\n      <td>four</td>\n      <td>sedan</td>\n      <td>4wd</td>\n      <td>front</td>\n      <td>99.4</td>\n      <td>0.848630</td>\n      <td>...</td>\n      <td>8.0</td>\n      <td>115.0</td>\n      <td>5500.0</td>\n      <td>18</td>\n      <td>22</td>\n      <td>17450.0</td>\n      <td>13.055556</td>\n      <td>Medium</td>\n      <td>0</td>\n      <td>1</td>\n    </tr>\n  </tbody>\n</table>\n<p>5 rows × 29 columns</p>\n</div>"
     },
     "metadata": {},
     "execution_count": 1
    }
   ],
   "source": [
    "import pandas as pd\n",
    "import numpy as np\n",
    "import matplotlib.pyplot as plt\n",
    "import seaborn as sns\n",
    "%matplotlib inline \n",
    "from scipy import stats\n",
    "from sklearn.linear_model import LinearRegression \n",
    "path='https://cf-courses-data.s3.us.cloud-object-storage.appdomain.cloud/IBMDeveloperSkillsNetwork-DA0101EN-SkillsNetwork/labs/Data%20files/automobileEDA.csv'\n",
    "df = pd.read_csv(path)\n",
    "df.head()"
   ]
  },
  {
   "cell_type": "code",
   "execution_count": 2,
   "metadata": {},
   "outputs": [],
   "source": [
    "from sklearn.model_selection import train_test_split"
   ]
  },
  {
   "cell_type": "code",
   "execution_count": 5,
   "metadata": {},
   "outputs": [],
   "source": [
    "x_train, x_test, y_train, y_test = train_test_split(df[['highway-mpg']], df['price'], test_size=0.3, random_state=0)"
   ]
  },
  {
   "cell_type": "code",
   "execution_count": 8,
   "metadata": {},
   "outputs": [],
   "source": [
    "from sklearn.model_selection import cross_val_score\n",
    "\n",
    "lr=LinearRegression()\n",
    "scores = cross_val_score(lr, df[['highway-mpg']], df['price'], cv=3)"
   ]
  },
  {
   "cell_type": "code",
   "execution_count": 9,
   "metadata": {},
   "outputs": [
    {
     "output_type": "execute_result",
     "data": {
      "text/plain": "array([ 0.49385231,  0.48773429, -0.07953989])"
     },
     "metadata": {},
     "execution_count": 9
    }
   ],
   "source": [
    "scores"
   ]
  },
  {
   "cell_type": "code",
   "execution_count": 10,
   "metadata": {},
   "outputs": [
    {
     "output_type": "execute_result",
     "data": {
      "text/plain": "0.3006822341108339"
     },
     "metadata": {},
     "execution_count": 10
    }
   ],
   "source": [
    "np.mean(scores)"
   ]
  },
  {
   "cell_type": "code",
   "execution_count": 12,
   "metadata": {},
   "outputs": [],
   "source": [
    "from sklearn.model_selection import cross_val_predict\n",
    "yhat = cross_val_predict(lr, df[['highway-mpg']], df['price'], cv=3)"
   ]
  },
  {
   "cell_type": "code",
   "execution_count": 14,
   "metadata": {},
   "outputs": [],
   "source": [
    "from sklearn.linear_model import Ridge\n",
    "RidgeModel=Ridge(alpha=0.1)\n",
    "RidgeModel.fit(df[['highway-mpg']], df['price'])\n",
    "Yhat=RidgeModel.predict(df[['highway-mpg']])\n",
    "RidgeModel.score((df[['highway-mpg']], df['price'])"
   ]
  },
  {
   "cell_type": "code",
   "execution_count": 21,
   "metadata": {},
   "outputs": [
    {
     "output_type": "execute_result",
     "data": {
      "text/plain": "array([ 0.66516228,  0.66459248,  0.66982741,  0.66459253,  0.69342286,\n        0.66459305,  0.69000509,  0.66459827,  0.32125534,  0.66465008,\n        0.01692457,  0.66513615, -0.03033714,  0.66808959, -0.03531091,\n        0.67249168, -0.03581087,  0.6569726 ])"
     },
     "metadata": {},
     "execution_count": 21
    }
   ],
   "source": [
    "from sklearn.model_selection import GridSearchCV\n",
    "parameters=[{'alpha':[0.001,0.01,0.1,1,10,100,1000,10000,100000], 'normalize':[True,False]}]\n",
    "rr=Ridge()\n",
    "Grid1=GridSearchCV(rr, parameters,cv=4)\n",
    "Grid1.fit(df[['horsepower', 'curb-weight', 'engine-size', 'highway-mpg']],df['price'])\n",
    "Grid1.best_estimator_\n",
    "scores=Grid1.cv_results_\n",
    "scores['mean_test_score']"
   ]
  },
  {
   "cell_type": "code",
   "execution_count": 24,
   "metadata": {},
   "outputs": [
    {
     "output_type": "execute_result",
     "data": {
      "text/plain": "{'mean_fit_time': array([0.00525111, 0.00349885, 0.00375056, 0.00324744, 0.00295693,\n        0.00301194, 0.00299758, 0.0032506 , 0.00373733, 0.00275004,\n        0.00299978, 0.00299418, 0.00374967, 0.00324988, 0.00326264,\n        0.00278497, 0.00299382, 0.00297379]),\n 'std_fit_time': array([1.09007067e-03, 4.98596252e-04, 4.33326571e-04, 4.30471904e-04,\n        2.26135812e-05, 4.39677087e-05, 2.34436517e-06, 3.99245205e-04,\n        8.41612865e-04, 4.33257352e-04, 3.76972873e-07, 3.84351529e-05,\n        4.03472126e-04, 4.35725559e-04, 3.95564715e-04, 4.52930138e-04,\n        2.88491407e-05, 4.52879213e-05]),\n 'mean_score_time': array([0.00349838, 0.00200123, 0.0022372 , 0.002267  , 0.00252652,\n        0.00300139, 0.00222862, 0.00201344, 0.00225049, 0.00250024,\n        0.00226307, 0.00274307, 0.00249934, 0.00226313, 0.00199205,\n        0.0024913 , 0.00250578, 0.00202596]),\n 'std_score_time': array([5.01338444e-04, 3.97299722e-06, 4.40101792e-04, 4.16776186e-04,\n        5.00306689e-04, 3.71307277e-05, 4.15471088e-04, 2.27149227e-05,\n        4.33533567e-04, 5.00381256e-04, 4.56037938e-04, 4.29347424e-04,\n        4.99606772e-04, 4.25573703e-04, 1.50622954e-05, 4.91475205e-04,\n        4.80696291e-04, 2.62273983e-05]),\n 'param_alpha': masked_array(data=[0.001, 0.001, 0.01, 0.01, 0.1, 0.1, 1, 1, 10, 10, 100,\n                    100, 1000, 1000, 10000, 10000, 100000, 100000],\n              mask=[False, False, False, False, False, False, False, False,\n                    False, False, False, False, False, False, False, False,\n                    False, False],\n        fill_value='?',\n             dtype=object),\n 'param_normalize': masked_array(data=[True, False, True, False, True, False, True, False,\n                    True, False, True, False, True, False, True, False,\n                    True, False],\n              mask=[False, False, False, False, False, False, False, False,\n                    False, False, False, False, False, False, False, False,\n                    False, False],\n        fill_value='?',\n             dtype=object),\n 'params': [{'alpha': 0.001, 'normalize': True},\n  {'alpha': 0.001, 'normalize': False},\n  {'alpha': 0.01, 'normalize': True},\n  {'alpha': 0.01, 'normalize': False},\n  {'alpha': 0.1, 'normalize': True},\n  {'alpha': 0.1, 'normalize': False},\n  {'alpha': 1, 'normalize': True},\n  {'alpha': 1, 'normalize': False},\n  {'alpha': 10, 'normalize': True},\n  {'alpha': 10, 'normalize': False},\n  {'alpha': 100, 'normalize': True},\n  {'alpha': 100, 'normalize': False},\n  {'alpha': 1000, 'normalize': True},\n  {'alpha': 1000, 'normalize': False},\n  {'alpha': 10000, 'normalize': True},\n  {'alpha': 10000, 'normalize': False},\n  {'alpha': 100000, 'normalize': True},\n  {'alpha': 100000, 'normalize': False}],\n 'split0_test_score': array([ 0.84469457,  0.84466574,  0.84491921,  0.84466574,  0.84472796,\n         0.84466574,  0.78685572,  0.84466581,  0.34568478,  0.84466645,\n         0.04317621,  0.84467209, -0.00200311,  0.84469375, -0.00673551,\n         0.84428216, -0.00721098,  0.82706721]),\n 'split1_test_score': array([ 0.78616028,  0.78589221,  0.78815479,  0.78589225,  0.79214555,\n         0.78589265,  0.72571364,  0.78589669,  0.3130335 ,  0.7859368 ,\n         0.03711787,  0.78631422, -0.00419923,  0.78867456, -0.00852965,\n         0.79423103, -0.00896477,  0.80694603]),\n 'split2_test_score': array([ 5.65750587e-01,  5.64122451e-01,  5.79173651e-01,  5.64122584e-01,\n         6.48033518e-01,  5.64123905e-01,  6.63741986e-01,  5.64137112e-01,\n         3.06477953e-01,  5.64268248e-01,  4.40213917e-02,  5.65492073e-01,\n         3.92067956e-03,  5.72384545e-01, -2.92771580e-04,  5.68165625e-01,\n        -7.16243636e-04,  4.54080014e-01]),\n 'split3_test_score': array([ 0.46404368,  0.46368952,  0.46706198,  0.46368956,  0.48878443,\n         0.46368991,  0.58370902,  0.46369346,  0.31982511,  0.46372881,\n        -0.05661721,  0.4640662 , -0.1190669 ,  0.4666055 , -0.12568569,\n         0.4832879 , -0.12635149,  0.53979714]),\n 'mean_test_score': array([ 0.66516228,  0.66459248,  0.66982741,  0.66459253,  0.69342286,\n         0.66459305,  0.69000509,  0.66459827,  0.32125534,  0.66465008,\n         0.01692457,  0.66513615, -0.03033714,  0.66808959, -0.03531091,\n         0.67249168, -0.03581087,  0.6569726 ]),\n 'std_test_score': array([0.15588757, 0.15620197, 0.15328929, 0.15620195, 0.13836228,\n        0.1562017 , 0.0752392 , 0.15619924, 0.0148729 , 0.15617477,\n        0.04254277, 0.15594498, 0.05131417, 0.15450328, 0.05226773,\n        0.150843  , 0.05236388, 0.1630335 ]),\n 'rank_test_score': array([ 6, 12,  4, 11,  1, 10,  2,  9, 14,  8, 15,  7, 16,  5, 17,  3, 18,\n        13], dtype=int32)}"
     },
     "metadata": {},
     "execution_count": 24
    }
   ],
   "source": [
    "scores"
   ]
  },
  {
   "cell_type": "code",
   "execution_count": null,
   "metadata": {},
   "outputs": [],
   "source": []
  }
 ]
}