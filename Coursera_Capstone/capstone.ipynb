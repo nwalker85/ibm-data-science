{
 "metadata": {
  "language_info": {
   "codemirror_mode": {
    "name": "ipython",
    "version": 3
   },
   "file_extension": ".py",
   "mimetype": "text/x-python",
   "name": "python",
   "nbconvert_exporter": "python",
   "pygments_lexer": "ipython3",
   "version": "3.8.5-final"
  },
  "orig_nbformat": 2,
  "kernelspec": {
   "name": "python_defaultSpec_1598316136035",
   "display_name": "Python 3.8.5 32-bit"
  }
 },
 "nbformat": 4,
 "nbformat_minor": 2,
 "cells": [
  {
   "cell_type": "markdown",
   "metadata": {},
   "source": [
    "<h1>IBM Applied Data Science Capstone Notebook</h1>\n",
    "\n",
    "Nathan Walker\n",
    "8/24/2020\n",
    "\n",
    "This notebook is for my capstone project for the IBM Data Science Professional Certificate. "
   ]
  },
  {
   "cell_type": "code",
   "execution_count": 2,
   "metadata": {
    "tags": []
   },
   "outputs": [
    {
     "output_type": "stream",
     "name": "stdout",
     "text": "Hello Capstone Project Course!\n"
    }
   ],
   "source": [
    "import pandas as pd \n",
    "import numpy as np \n",
    "\n",
    "print('Hello Capstone Project Course!')"
   ]
  },
  {
   "cell_type": "markdown",
   "metadata": {},
   "source": [
    "Goal: Predict the severity of an accident.\n",
    "\n",
    "\n"
   ]
  },
  {
   "cell_type": "code",
   "execution_count": 3,
   "metadata": {},
   "outputs": [],
   "source": [
    "# Exploring the data\n",
    "\n",
    "df = pd.read_csv('Data-Collisions.csv')"
   ]
  },
  {
   "cell_type": "code",
   "execution_count": 4,
   "metadata": {},
   "outputs": [
    {
     "output_type": "execute_result",
     "data": {
      "text/plain": "Index(['SEVERITYCODE', 'X', 'Y', 'OBJECTID', 'INCKEY', 'COLDETKEY', 'REPORTNO',\n       'STATUS', 'ADDRTYPE', 'INTKEY', 'LOCATION', 'EXCEPTRSNCODE',\n       'EXCEPTRSNDESC', 'SEVERITYCODE.1', 'SEVERITYDESC', 'COLLISIONTYPE',\n       'PERSONCOUNT', 'PEDCOUNT', 'PEDCYLCOUNT', 'VEHCOUNT', 'INCDATE',\n       'INCDTTM', 'JUNCTIONTYPE', 'SDOT_COLCODE', 'SDOT_COLDESC',\n       'INATTENTIONIND', 'UNDERINFL', 'WEATHER', 'ROADCOND', 'LIGHTCOND',\n       'PEDROWNOTGRNT', 'SDOTCOLNUM', 'SPEEDING', 'ST_COLCODE', 'ST_COLDESC',\n       'SEGLANEKEY', 'CROSSWALKKEY', 'HITPARKEDCAR'],\n      dtype='object')"
     },
     "metadata": {},
     "execution_count": 4
    }
   ],
   "source": [
    "df.columns"
   ]
  },
  {
   "cell_type": "code",
   "execution_count": 5,
   "metadata": {},
   "outputs": [
    {
     "output_type": "execute_result",
     "data": {
      "text/plain": "Dry               124510\nWet                47474\nUnknown            15078\nNaN                 5012\nIce                 1209\nSnow/Slush          1004\nOther                132\nStanding Water       115\nSand/Mud/Dirt         75\nOil                   64\nName: ROADCOND, dtype: int64"
     },
     "metadata": {},
     "execution_count": 5
    }
   ],
   "source": [
    "df['ROADCOND'].value_counts(dropna=False)"
   ]
  },
  {
   "cell_type": "code",
   "execution_count": 7,
   "metadata": {},
   "outputs": [
    {
     "output_type": "execute_result",
     "data": {
      "text/plain": "                SEVERITYCODE         X         Y  OBJECTID    INCKEY  \\\nSEVERITYCODE        1.000000  0.010309  0.017737  0.020131  0.022065   \nX                   0.010309  1.000000 -0.160262  0.009956  0.010309   \nY                   0.017737 -0.160262  1.000000 -0.023848 -0.027396   \nOBJECTID            0.020131  0.009956 -0.023848  1.000000  0.946383   \nINCKEY              0.022065  0.010309 -0.027396  0.946383  1.000000   \nCOLDETKEY           0.022079  0.010300 -0.027415  0.945837  0.999996   \nINTKEY              0.006553  0.120754 -0.114935  0.046929  0.048524   \nSEVERITYCODE.1      1.000000  0.010309  0.017737  0.020131  0.022065   \nPERSONCOUNT         0.130949  0.012887 -0.013850 -0.062333 -0.061500   \nPEDCOUNT            0.246338  0.011304  0.010178  0.024604  0.024918   \nPEDCYLCOUNT         0.214218 -0.001752  0.026304  0.034432  0.031342   \nVEHCOUNT           -0.054686 -0.012168  0.017058 -0.094280 -0.107528   \nSDOT_COLCODE        0.188905  0.010904 -0.019694 -0.037094 -0.027617   \nSDOTCOLNUM          0.004226 -0.001016 -0.006958  0.969276  0.990571   \nSEGLANEKEY          0.104276 -0.001618  0.004618  0.028076  0.019701   \nCROSSWALKKEY        0.175093  0.013586  0.009508  0.056046  0.048179   \n\n                COLDETKEY    INTKEY  SEVERITYCODE.1  PERSONCOUNT  PEDCOUNT  \\\nSEVERITYCODE     0.022079  0.006553        1.000000     0.130949  0.246338   \nX                0.010300  0.120754        0.010309     0.012887  0.011304   \nY               -0.027415 -0.114935        0.017737    -0.013850  0.010178   \nOBJECTID         0.945837  0.046929        0.020131    -0.062333  0.024604   \nINCKEY           0.999996  0.048524        0.022065    -0.061500  0.024918   \nCOLDETKEY        1.000000  0.048499        0.022079    -0.061403  0.024914   \nINTKEY           0.048499  1.000000        0.006553     0.001886 -0.004784   \nSEVERITYCODE.1   0.022079  0.006553        1.000000     0.130949  0.246338   \nPERSONCOUNT     -0.061403  0.001886        0.130949     1.000000 -0.023464   \nPEDCOUNT         0.024914 -0.004784        0.246338    -0.023464  1.000000   \nPEDCYLCOUNT      0.031296  0.000531        0.214218    -0.038809 -0.016920   \nVEHCOUNT        -0.107598 -0.012929       -0.054686     0.380523 -0.261285   \nSDOT_COLCODE    -0.027461  0.007114        0.188905    -0.128960  0.260393   \nSDOTCOLNUM       0.990571  0.032604        0.004226     0.011784  0.021461   \nSEGLANEKEY       0.019586 -0.010510        0.104276    -0.021383  0.001810   \nCROSSWALKKEY     0.048063  0.018420        0.175093    -0.032258  0.565326   \n\n                PEDCYLCOUNT  VEHCOUNT  SDOT_COLCODE  SDOTCOLNUM  SEGLANEKEY  \\\nSEVERITYCODE       0.214218 -0.054686      0.188905    0.004226    0.104276   \nX                 -0.001752 -0.012168      0.010904   -0.001016   -0.001618   \nY                  0.026304  0.017058     -0.019694   -0.006958    0.004618   \nOBJECTID           0.034432 -0.094280     -0.037094    0.969276    0.028076   \nINCKEY             0.031342 -0.107528     -0.027617    0.990571    0.019701   \nCOLDETKEY          0.031296 -0.107598     -0.027461    0.990571    0.019586   \nINTKEY             0.000531 -0.012929      0.007114    0.032604   -0.010510   \nSEVERITYCODE.1     0.214218 -0.054686      0.188905    0.004226    0.104276   \nPERSONCOUNT       -0.038809  0.380523     -0.128960    0.011784   -0.021383   \nPEDCOUNT          -0.016920 -0.261285      0.260393    0.021461    0.001810   \nPEDCYLCOUNT        1.000000 -0.253773      0.382521    0.034593    0.453657   \nVEHCOUNT          -0.253773  1.000000     -0.365814   -0.023813   -0.122941   \nSDOT_COLCODE       0.382521 -0.365814      1.000000   -0.041084    0.206835   \nSDOTCOLNUM         0.034593 -0.023813     -0.041084    1.000000    0.066449   \nSEGLANEKEY         0.453657 -0.122941      0.206835    0.066449    1.000000   \nCROSSWALKKEY       0.109820 -0.200526      0.189518    0.086228   -0.003422   \n\n                CROSSWALKKEY  \nSEVERITYCODE        0.175093  \nX                   0.013586  \nY                   0.009508  \nOBJECTID            0.056046  \nINCKEY              0.048179  \nCOLDETKEY           0.048063  \nINTKEY              0.018420  \nSEVERITYCODE.1      0.175093  \nPERSONCOUNT        -0.032258  \nPEDCOUNT            0.565326  \nPEDCYLCOUNT         0.109820  \nVEHCOUNT           -0.200526  \nSDOT_COLCODE        0.189518  \nSDOTCOLNUM          0.086228  \nSEGLANEKEY         -0.003422  \nCROSSWALKKEY        1.000000  ",
      "text/html": "<div>\n<style scoped>\n    .dataframe tbody tr th:only-of-type {\n        vertical-align: middle;\n    }\n\n    .dataframe tbody tr th {\n        vertical-align: top;\n    }\n\n    .dataframe thead th {\n        text-align: right;\n    }\n</style>\n<table border=\"1\" class=\"dataframe\">\n  <thead>\n    <tr style=\"text-align: right;\">\n      <th></th>\n      <th>SEVERITYCODE</th>\n      <th>X</th>\n      <th>Y</th>\n      <th>OBJECTID</th>\n      <th>INCKEY</th>\n      <th>COLDETKEY</th>\n      <th>INTKEY</th>\n      <th>SEVERITYCODE.1</th>\n      <th>PERSONCOUNT</th>\n      <th>PEDCOUNT</th>\n      <th>PEDCYLCOUNT</th>\n      <th>VEHCOUNT</th>\n      <th>SDOT_COLCODE</th>\n      <th>SDOTCOLNUM</th>\n      <th>SEGLANEKEY</th>\n      <th>CROSSWALKKEY</th>\n    </tr>\n  </thead>\n  <tbody>\n    <tr>\n      <th>SEVERITYCODE</th>\n      <td>1.000000</td>\n      <td>0.010309</td>\n      <td>0.017737</td>\n      <td>0.020131</td>\n      <td>0.022065</td>\n      <td>0.022079</td>\n      <td>0.006553</td>\n      <td>1.000000</td>\n      <td>0.130949</td>\n      <td>0.246338</td>\n      <td>0.214218</td>\n      <td>-0.054686</td>\n      <td>0.188905</td>\n      <td>0.004226</td>\n      <td>0.104276</td>\n      <td>0.175093</td>\n    </tr>\n    <tr>\n      <th>X</th>\n      <td>0.010309</td>\n      <td>1.000000</td>\n      <td>-0.160262</td>\n      <td>0.009956</td>\n      <td>0.010309</td>\n      <td>0.010300</td>\n      <td>0.120754</td>\n      <td>0.010309</td>\n      <td>0.012887</td>\n      <td>0.011304</td>\n      <td>-0.001752</td>\n      <td>-0.012168</td>\n      <td>0.010904</td>\n      <td>-0.001016</td>\n      <td>-0.001618</td>\n      <td>0.013586</td>\n    </tr>\n    <tr>\n      <th>Y</th>\n      <td>0.017737</td>\n      <td>-0.160262</td>\n      <td>1.000000</td>\n      <td>-0.023848</td>\n      <td>-0.027396</td>\n      <td>-0.027415</td>\n      <td>-0.114935</td>\n      <td>0.017737</td>\n      <td>-0.013850</td>\n      <td>0.010178</td>\n      <td>0.026304</td>\n      <td>0.017058</td>\n      <td>-0.019694</td>\n      <td>-0.006958</td>\n      <td>0.004618</td>\n      <td>0.009508</td>\n    </tr>\n    <tr>\n      <th>OBJECTID</th>\n      <td>0.020131</td>\n      <td>0.009956</td>\n      <td>-0.023848</td>\n      <td>1.000000</td>\n      <td>0.946383</td>\n      <td>0.945837</td>\n      <td>0.046929</td>\n      <td>0.020131</td>\n      <td>-0.062333</td>\n      <td>0.024604</td>\n      <td>0.034432</td>\n      <td>-0.094280</td>\n      <td>-0.037094</td>\n      <td>0.969276</td>\n      <td>0.028076</td>\n      <td>0.056046</td>\n    </tr>\n    <tr>\n      <th>INCKEY</th>\n      <td>0.022065</td>\n      <td>0.010309</td>\n      <td>-0.027396</td>\n      <td>0.946383</td>\n      <td>1.000000</td>\n      <td>0.999996</td>\n      <td>0.048524</td>\n      <td>0.022065</td>\n      <td>-0.061500</td>\n      <td>0.024918</td>\n      <td>0.031342</td>\n      <td>-0.107528</td>\n      <td>-0.027617</td>\n      <td>0.990571</td>\n      <td>0.019701</td>\n      <td>0.048179</td>\n    </tr>\n    <tr>\n      <th>COLDETKEY</th>\n      <td>0.022079</td>\n      <td>0.010300</td>\n      <td>-0.027415</td>\n      <td>0.945837</td>\n      <td>0.999996</td>\n      <td>1.000000</td>\n      <td>0.048499</td>\n      <td>0.022079</td>\n      <td>-0.061403</td>\n      <td>0.024914</td>\n      <td>0.031296</td>\n      <td>-0.107598</td>\n      <td>-0.027461</td>\n      <td>0.990571</td>\n      <td>0.019586</td>\n      <td>0.048063</td>\n    </tr>\n    <tr>\n      <th>INTKEY</th>\n      <td>0.006553</td>\n      <td>0.120754</td>\n      <td>-0.114935</td>\n      <td>0.046929</td>\n      <td>0.048524</td>\n      <td>0.048499</td>\n      <td>1.000000</td>\n      <td>0.006553</td>\n      <td>0.001886</td>\n      <td>-0.004784</td>\n      <td>0.000531</td>\n      <td>-0.012929</td>\n      <td>0.007114</td>\n      <td>0.032604</td>\n      <td>-0.010510</td>\n      <td>0.018420</td>\n    </tr>\n    <tr>\n      <th>SEVERITYCODE.1</th>\n      <td>1.000000</td>\n      <td>0.010309</td>\n      <td>0.017737</td>\n      <td>0.020131</td>\n      <td>0.022065</td>\n      <td>0.022079</td>\n      <td>0.006553</td>\n      <td>1.000000</td>\n      <td>0.130949</td>\n      <td>0.246338</td>\n      <td>0.214218</td>\n      <td>-0.054686</td>\n      <td>0.188905</td>\n      <td>0.004226</td>\n      <td>0.104276</td>\n      <td>0.175093</td>\n    </tr>\n    <tr>\n      <th>PERSONCOUNT</th>\n      <td>0.130949</td>\n      <td>0.012887</td>\n      <td>-0.013850</td>\n      <td>-0.062333</td>\n      <td>-0.061500</td>\n      <td>-0.061403</td>\n      <td>0.001886</td>\n      <td>0.130949</td>\n      <td>1.000000</td>\n      <td>-0.023464</td>\n      <td>-0.038809</td>\n      <td>0.380523</td>\n      <td>-0.128960</td>\n      <td>0.011784</td>\n      <td>-0.021383</td>\n      <td>-0.032258</td>\n    </tr>\n    <tr>\n      <th>PEDCOUNT</th>\n      <td>0.246338</td>\n      <td>0.011304</td>\n      <td>0.010178</td>\n      <td>0.024604</td>\n      <td>0.024918</td>\n      <td>0.024914</td>\n      <td>-0.004784</td>\n      <td>0.246338</td>\n      <td>-0.023464</td>\n      <td>1.000000</td>\n      <td>-0.016920</td>\n      <td>-0.261285</td>\n      <td>0.260393</td>\n      <td>0.021461</td>\n      <td>0.001810</td>\n      <td>0.565326</td>\n    </tr>\n    <tr>\n      <th>PEDCYLCOUNT</th>\n      <td>0.214218</td>\n      <td>-0.001752</td>\n      <td>0.026304</td>\n      <td>0.034432</td>\n      <td>0.031342</td>\n      <td>0.031296</td>\n      <td>0.000531</td>\n      <td>0.214218</td>\n      <td>-0.038809</td>\n      <td>-0.016920</td>\n      <td>1.000000</td>\n      <td>-0.253773</td>\n      <td>0.382521</td>\n      <td>0.034593</td>\n      <td>0.453657</td>\n      <td>0.109820</td>\n    </tr>\n    <tr>\n      <th>VEHCOUNT</th>\n      <td>-0.054686</td>\n      <td>-0.012168</td>\n      <td>0.017058</td>\n      <td>-0.094280</td>\n      <td>-0.107528</td>\n      <td>-0.107598</td>\n      <td>-0.012929</td>\n      <td>-0.054686</td>\n      <td>0.380523</td>\n      <td>-0.261285</td>\n      <td>-0.253773</td>\n      <td>1.000000</td>\n      <td>-0.365814</td>\n      <td>-0.023813</td>\n      <td>-0.122941</td>\n      <td>-0.200526</td>\n    </tr>\n    <tr>\n      <th>SDOT_COLCODE</th>\n      <td>0.188905</td>\n      <td>0.010904</td>\n      <td>-0.019694</td>\n      <td>-0.037094</td>\n      <td>-0.027617</td>\n      <td>-0.027461</td>\n      <td>0.007114</td>\n      <td>0.188905</td>\n      <td>-0.128960</td>\n      <td>0.260393</td>\n      <td>0.382521</td>\n      <td>-0.365814</td>\n      <td>1.000000</td>\n      <td>-0.041084</td>\n      <td>0.206835</td>\n      <td>0.189518</td>\n    </tr>\n    <tr>\n      <th>SDOTCOLNUM</th>\n      <td>0.004226</td>\n      <td>-0.001016</td>\n      <td>-0.006958</td>\n      <td>0.969276</td>\n      <td>0.990571</td>\n      <td>0.990571</td>\n      <td>0.032604</td>\n      <td>0.004226</td>\n      <td>0.011784</td>\n      <td>0.021461</td>\n      <td>0.034593</td>\n      <td>-0.023813</td>\n      <td>-0.041084</td>\n      <td>1.000000</td>\n      <td>0.066449</td>\n      <td>0.086228</td>\n    </tr>\n    <tr>\n      <th>SEGLANEKEY</th>\n      <td>0.104276</td>\n      <td>-0.001618</td>\n      <td>0.004618</td>\n      <td>0.028076</td>\n      <td>0.019701</td>\n      <td>0.019586</td>\n      <td>-0.010510</td>\n      <td>0.104276</td>\n      <td>-0.021383</td>\n      <td>0.001810</td>\n      <td>0.453657</td>\n      <td>-0.122941</td>\n      <td>0.206835</td>\n      <td>0.066449</td>\n      <td>1.000000</td>\n      <td>-0.003422</td>\n    </tr>\n    <tr>\n      <th>CROSSWALKKEY</th>\n      <td>0.175093</td>\n      <td>0.013586</td>\n      <td>0.009508</td>\n      <td>0.056046</td>\n      <td>0.048179</td>\n      <td>0.048063</td>\n      <td>0.018420</td>\n      <td>0.175093</td>\n      <td>-0.032258</td>\n      <td>0.565326</td>\n      <td>0.109820</td>\n      <td>-0.200526</td>\n      <td>0.189518</td>\n      <td>0.086228</td>\n      <td>-0.003422</td>\n      <td>1.000000</td>\n    </tr>\n  </tbody>\n</table>\n</div>"
     },
     "metadata": {},
     "execution_count": 7
    }
   ],
   "source": [
    "df.corr()"
   ]
  },
  {
   "cell_type": "code",
   "execution_count": null,
   "metadata": {},
   "outputs": [],
   "source": []
  }
 ]
}