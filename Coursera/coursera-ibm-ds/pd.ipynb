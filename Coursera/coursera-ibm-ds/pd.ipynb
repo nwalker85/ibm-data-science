{
 "metadata": {
  "language_info": {
   "codemirror_mode": {
    "name": "ipython",
    "version": 3
   },
   "file_extension": ".py",
   "mimetype": "text/x-python",
   "name": "python",
   "nbconvert_exporter": "python",
   "pygments_lexer": "ipython3",
   "version": 3
  },
  "orig_nbformat": 2,
  "kernelspec": {
   "name": "python_defaultSpec_1596774438073",
   "display_name": "Python 3.8.0 64-bit"
  }
 },
 "nbformat": 4,
 "nbformat_minor": 2,
 "cells": [
  {
   "cell_type": "markdown",
   "metadata": {},
   "source": [
    "# Pandas and Amelia Metrics\n",
    "\n",
    "Pandas is a powerful data science library that can be used by IPsoft engineers to analyze Amelia exports."
   ]
  },
  {
   "cell_type": "code",
   "execution_count": null,
   "metadata": {},
   "outputs": [],
   "source": [
    "# Import the Pandas library\n",
    "import pandas as pd\n",
    "\n",
    "# I like to limit how much is diplayed at a given time\n",
    "\n",
    "#pd.options.display.max_columns = 50\n",
    "#pd.options.display.max_rows = 20\n",
    "#pd.options.display.max_colwidth = 100\n",
    "#pd.options.display.precision = 3\n",
    "\n",
    "# Import our csv as a Pandas dataframe\n",
    "filename = 'vw.csv'\n",
    "df = pd.read_csv(filename)"
   ]
  },
  {
   "cell_type": "code",
   "execution_count": null,
   "metadata": {},
   "outputs": [],
   "source": [
    "# You can see a brief overview of the dataframe with the method 'head'.\n",
    "df.head()"
   ]
  },
  {
   "cell_type": "code",
   "execution_count": null,
   "metadata": {},
   "outputs": [],
   "source": [
    "# You can create a new dataframe from just the columns you want.\n",
    "\n",
    "new_df = df[['Conversation Id', 'Executed BPNs']]\n",
    "new_df.head()"
   ]
  },
  {
   "cell_type": "markdown",
   "metadata": {},
   "source": [
    "There are two ways to select data from a data frame in Pandas: loc and iloc. "
   ]
  },
  {
   "cell_type": "code",
   "execution_count": null,
   "metadata": {},
   "outputs": [],
   "source": [
    "# loc is primarily label based; when two arguments are used, you use column headers and row indices to select the data you want. loc can also take an integer as a row or column number.\n",
    "\n",
    "new_df.loc[1, 'Conversation Id']"
   ]
  },
  {
   "cell_type": "code",
   "execution_count": null,
   "metadata": {},
   "outputs": [],
   "source": [
    "# iloc is integer-based. You use column numbers and row numbers to get rows or columns at particular positions in the data frame.\n",
    "\n",
    "new_df.iloc[1,0]"
   ]
  },
  {
   "cell_type": "code",
   "execution_count": null,
   "metadata": {},
   "outputs": [],
   "source": [
    "# You can also slice data frames and assign the values to a new data frame using the column names.\n",
    "\n",
    "newer_df = df.loc[0:4, 'Amelia Handled':'Escalate Abandoned']\n",
    "newer_df.head()"
   ]
  },
  {
   "cell_type": "code",
   "execution_count": null,
   "metadata": {},
   "outputs": [],
   "source": [
    "# You can do the same thing with iloc slicing\n",
    "\n",
    "newest_df = df.iloc[0:2, 14:19]\n",
    "newest_df.head()"
   ]
  },
  {
   "cell_type": "code",
   "execution_count": null,
   "metadata": {
    "tags": []
   },
   "outputs": [],
   "source": [
    "# You can get unique values easily with the unique function.\n",
    "\n",
    "bpns = df['Executed BPNs'].unique()\n",
    "print(bpns)"
   ]
  },
  {
   "cell_type": "code",
   "execution_count": null,
   "metadata": {},
   "outputs": [],
   "source": [
    "# But there are multiple values in a given row. Let's split them up and get the truly unique bpns.\n",
    "\n",
    "metrics = df['Executed BPNs']\n",
    "unique_bpns = pd.unique(metrics.str.split(\",\", expand=True).stack())\n",
    "unique_bpns"
   ]
  },
  {
   "cell_type": "code",
   "execution_count": null,
   "metadata": {},
   "outputs": [],
   "source": [
    "# An interesting feature is crosstab, where you can take data and check frequencies of groups\n",
    "\n",
    "pd.crosstab(index=[df['Escalated'],df['Amelia Handled']],columns=[df['Abandoned']],rownames=['Escalated', 'Amelia Handled'],colnames=['Abandoned'],margins=True)"
   ]
  },
  {
   "cell_type": "code",
   "execution_count": null,
   "metadata": {},
   "outputs": [],
   "source": [
    "# What if you want all the conversations where the total handle time was less than 2 minute?\n",
    "\n",
    "less_than_2_minutes = df[df['Total Handle Time']<='00:02:00']\n",
    "less_than_2_minutes"
   ]
  },
  {
   "cell_type": "code",
   "execution_count": null,
   "metadata": {},
   "outputs": [],
   "source": [
    "# Sometimes you just need to skim the data. Highlighting the data you are looking for can be helpful.abs\n",
    "\n",
    "def color_negative_red(val):\n",
    "    color = 'red' if val < '00:02:00' else 'white'\n",
    "    return 'color: %s' % color\n",
    "\n",
    "handle_time = df[['Total Handle Time']]\n",
    "handle_time.style.applymap(color_negative_red)"
   ]
  },
  {
   "cell_type": "code",
   "execution_count": null,
   "metadata": {},
   "outputs": [],
   "source": [
    "# Now let's save this as a csv\n",
    "\n",
    "less_than_2_minutes.to_csv('less_than_2_minutes.csv')"
   ]
  },
  {
   "cell_type": "code",
   "execution_count": null,
   "metadata": {},
   "outputs": [],
   "source": []
  }
 ]
}