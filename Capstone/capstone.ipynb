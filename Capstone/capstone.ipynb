{
 "metadata": {
  "language_info": {
   "codemirror_mode": {
    "name": "ipython",
    "version": 3
   },
   "file_extension": ".py",
   "mimetype": "text/x-python",
   "name": "python",
   "nbconvert_exporter": "python",
   "pygments_lexer": "ipython3",
   "version": "3.8.0-final"
  },
  "orig_nbformat": 2,
  "kernelspec": {
   "name": "python_defaultSpec_1598326910851",
   "display_name": "Python 3.8.5 32-bit"
  }
 },
 "nbformat": 4,
 "nbformat_minor": 2,
 "cells": [
  {
   "cell_type": "code",
   "execution_count": null,
   "metadata": {},
   "outputs": [],
   "source": [
    "# Build a model to predict the severity of an accident\n"
   ]
  },
  {
   "cell_type": "code",
   "execution_count": 1,
   "metadata": {},
   "outputs": [],
   "source": [
    "import pandas as pd "
   ]
  },
  {
   "cell_type": "code",
   "execution_count": 2,
   "metadata": {},
   "outputs": [],
   "source": [
    "df = pd.read_csv('Data-Collisions.csv')"
   ]
  },
  {
   "cell_type": "code",
   "execution_count": 3,
   "metadata": {},
   "outputs": [
    {
     "output_type": "execute_result",
     "data": {
      "text/plain": "Index(['SEVERITYCODE', 'X', 'Y', 'OBJECTID', 'INCKEY', 'COLDETKEY', 'REPORTNO',\n       'STATUS', 'ADDRTYPE', 'INTKEY', 'LOCATION', 'EXCEPTRSNCODE',\n       'EXCEPTRSNDESC', 'SEVERITYCODE.1', 'SEVERITYDESC', 'COLLISIONTYPE',\n       'PERSONCOUNT', 'PEDCOUNT', 'PEDCYLCOUNT', 'VEHCOUNT', 'INCDATE',\n       'INCDTTM', 'JUNCTIONTYPE', 'SDOT_COLCODE', 'SDOT_COLDESC',\n       'INATTENTIONIND', 'UNDERINFL', 'WEATHER', 'ROADCOND', 'LIGHTCOND',\n       'PEDROWNOTGRNT', 'SDOTCOLNUM', 'SPEEDING', 'ST_COLCODE', 'ST_COLDESC',\n       'SEGLANEKEY', 'CROSSWALKKEY', 'HITPARKEDCAR'],\n      dtype='object')"
     },
     "metadata": {},
     "execution_count": 3
    }
   ],
   "source": [
    "df.columns"
   ]
  },
  {
   "cell_type": "code",
   "execution_count": 4,
   "metadata": {},
   "outputs": [
    {
     "output_type": "execute_result",
     "data": {
      "text/plain": "Dry               124510\nWet                47474\nUnknown            15078\nNaN                 5012\nIce                 1209\nSnow/Slush          1004\nOther                132\nStanding Water       115\nSand/Mud/Dirt         75\nOil                   64\nName: ROADCOND, dtype: int64"
     },
     "metadata": {},
     "execution_count": 4
    }
   ],
   "source": [
    "df['ROADCOND'].value_counts(dropna=False)"
   ]
  },
  {
   "cell_type": "code",
   "execution_count": 5,
   "metadata": {},
   "outputs": [
    {
     "output_type": "execute_result",
     "data": {
      "text/plain": "   SEVERITYCODE           X          Y  OBJECTID  INCKEY  COLDETKEY REPORTNO  \\\n0             2 -122.323148  47.703140         1    1307       1307  3502005   \n1             1 -122.347294  47.647172         2   52200      52200  2607959   \n2             1 -122.334540  47.607871         3   26700      26700  1482393   \n3             1 -122.334803  47.604803         4    1144       1144  3503937   \n4             2 -122.306426  47.545739         5   17700      17700  1807429   \n\n    STATUS      ADDRTYPE   INTKEY  ... ROADCOND                LIGHTCOND  \\\n0  Matched  Intersection  37475.0  ...      Wet                 Daylight   \n1  Matched         Block      NaN  ...      Wet  Dark - Street Lights On   \n2  Matched         Block      NaN  ...      Dry                 Daylight   \n3  Matched         Block      NaN  ...      Dry                 Daylight   \n4  Matched  Intersection  34387.0  ...      Wet                 Daylight   \n\n  PEDROWNOTGRNT  SDOTCOLNUM SPEEDING ST_COLCODE  \\\n0           NaN         NaN      NaN         10   \n1           NaN   6354039.0      NaN         11   \n2           NaN   4323031.0      NaN         32   \n3           NaN         NaN      NaN         23   \n4           NaN   4028032.0      NaN         10   \n\n                                          ST_COLDESC  SEGLANEKEY  \\\n0                                  Entering at angle           0   \n1  From same direction - both going straight - bo...           0   \n2                             One parked--one moving           0   \n3                   From same direction - all others           0   \n4                                  Entering at angle           0   \n\n   CROSSWALKKEY  HITPARKEDCAR  \n0             0             N  \n1             0             N  \n2             0             N  \n3             0             N  \n4             0             N  \n\n[5 rows x 38 columns]",
      "text/html": "<div>\n<style scoped>\n    .dataframe tbody tr th:only-of-type {\n        vertical-align: middle;\n    }\n\n    .dataframe tbody tr th {\n        vertical-align: top;\n    }\n\n    .dataframe thead th {\n        text-align: right;\n    }\n</style>\n<table border=\"1\" class=\"dataframe\">\n  <thead>\n    <tr style=\"text-align: right;\">\n      <th></th>\n      <th>SEVERITYCODE</th>\n      <th>X</th>\n      <th>Y</th>\n      <th>OBJECTID</th>\n      <th>INCKEY</th>\n      <th>COLDETKEY</th>\n      <th>REPORTNO</th>\n      <th>STATUS</th>\n      <th>ADDRTYPE</th>\n      <th>INTKEY</th>\n      <th>...</th>\n      <th>ROADCOND</th>\n      <th>LIGHTCOND</th>\n      <th>PEDROWNOTGRNT</th>\n      <th>SDOTCOLNUM</th>\n      <th>SPEEDING</th>\n      <th>ST_COLCODE</th>\n      <th>ST_COLDESC</th>\n      <th>SEGLANEKEY</th>\n      <th>CROSSWALKKEY</th>\n      <th>HITPARKEDCAR</th>\n    </tr>\n  </thead>\n  <tbody>\n    <tr>\n      <th>0</th>\n      <td>2</td>\n      <td>-122.323148</td>\n      <td>47.703140</td>\n      <td>1</td>\n      <td>1307</td>\n      <td>1307</td>\n      <td>3502005</td>\n      <td>Matched</td>\n      <td>Intersection</td>\n      <td>37475.0</td>\n      <td>...</td>\n      <td>Wet</td>\n      <td>Daylight</td>\n      <td>NaN</td>\n      <td>NaN</td>\n      <td>NaN</td>\n      <td>10</td>\n      <td>Entering at angle</td>\n      <td>0</td>\n      <td>0</td>\n      <td>N</td>\n    </tr>\n    <tr>\n      <th>1</th>\n      <td>1</td>\n      <td>-122.347294</td>\n      <td>47.647172</td>\n      <td>2</td>\n      <td>52200</td>\n      <td>52200</td>\n      <td>2607959</td>\n      <td>Matched</td>\n      <td>Block</td>\n      <td>NaN</td>\n      <td>...</td>\n      <td>Wet</td>\n      <td>Dark - Street Lights On</td>\n      <td>NaN</td>\n      <td>6354039.0</td>\n      <td>NaN</td>\n      <td>11</td>\n      <td>From same direction - both going straight - bo...</td>\n      <td>0</td>\n      <td>0</td>\n      <td>N</td>\n    </tr>\n    <tr>\n      <th>2</th>\n      <td>1</td>\n      <td>-122.334540</td>\n      <td>47.607871</td>\n      <td>3</td>\n      <td>26700</td>\n      <td>26700</td>\n      <td>1482393</td>\n      <td>Matched</td>\n      <td>Block</td>\n      <td>NaN</td>\n      <td>...</td>\n      <td>Dry</td>\n      <td>Daylight</td>\n      <td>NaN</td>\n      <td>4323031.0</td>\n      <td>NaN</td>\n      <td>32</td>\n      <td>One parked--one moving</td>\n      <td>0</td>\n      <td>0</td>\n      <td>N</td>\n    </tr>\n    <tr>\n      <th>3</th>\n      <td>1</td>\n      <td>-122.334803</td>\n      <td>47.604803</td>\n      <td>4</td>\n      <td>1144</td>\n      <td>1144</td>\n      <td>3503937</td>\n      <td>Matched</td>\n      <td>Block</td>\n      <td>NaN</td>\n      <td>...</td>\n      <td>Dry</td>\n      <td>Daylight</td>\n      <td>NaN</td>\n      <td>NaN</td>\n      <td>NaN</td>\n      <td>23</td>\n      <td>From same direction - all others</td>\n      <td>0</td>\n      <td>0</td>\n      <td>N</td>\n    </tr>\n    <tr>\n      <th>4</th>\n      <td>2</td>\n      <td>-122.306426</td>\n      <td>47.545739</td>\n      <td>5</td>\n      <td>17700</td>\n      <td>17700</td>\n      <td>1807429</td>\n      <td>Matched</td>\n      <td>Intersection</td>\n      <td>34387.0</td>\n      <td>...</td>\n      <td>Wet</td>\n      <td>Daylight</td>\n      <td>NaN</td>\n      <td>4028032.0</td>\n      <td>NaN</td>\n      <td>10</td>\n      <td>Entering at angle</td>\n      <td>0</td>\n      <td>0</td>\n      <td>N</td>\n    </tr>\n  </tbody>\n</table>\n<p>5 rows × 38 columns</p>\n</div>"
     },
     "metadata": {},
     "execution_count": 5
    }
   ],
   "source": [
    "df.head()"
   ]
  },
  {
   "cell_type": "markdown",
   "metadata": {},
   "source": [
    "So this data is interesting and all but.. I'm from Texas.\n",
    "\n",
    "I want to look at Texas data.\n",
    "\n",
    "While researching this, I found that these records do indeed exist.\n",
    "\n",
    "https://data.world/spatialaustin/texas-crash-records-information-system-cris-extract\n",
    "\n",
    "I downloaded the 'field lookup' file to see if \"crash severity\" was a field I could target.\n"
   ]
  },
  {
   "cell_type": "code",
   "execution_count": 26,
   "metadata": {},
   "outputs": [],
   "source": [
    "df = pd.read_csv('lookup_2010_2016.csv', encoding = \"ISO-8859-1\")"
   ]
  },
  {
   "cell_type": "code",
   "execution_count": 27,
   "metadata": {},
   "outputs": [
    {
     "output_type": "execute_result",
     "data": {
      "text/plain": "  ColumnName  ID                                        Description\n0  AGENCY_ID   8                        ABERNATHY POLICE DEPARTMENT\n1  AGENCY_ID   9     ABILENE CHRISTIAN UNIVERSITY POLICE DEPARTMENT\n2  AGENCY_ID  10                          ABILENE POLICE DEPARTMENT\n3  AGENCY_ID  12                          ADDISON POLICE DEPARTMENT\n4  AGENCY_ID  13  ALAMO COMMUNITY COLLEGE DISTRICT POLICE DEPART...",
      "text/html": "<div>\n<style scoped>\n    .dataframe tbody tr th:only-of-type {\n        vertical-align: middle;\n    }\n\n    .dataframe tbody tr th {\n        vertical-align: top;\n    }\n\n    .dataframe thead th {\n        text-align: right;\n    }\n</style>\n<table border=\"1\" class=\"dataframe\">\n  <thead>\n    <tr style=\"text-align: right;\">\n      <th></th>\n      <th>ColumnName</th>\n      <th>ID</th>\n      <th>Description</th>\n    </tr>\n  </thead>\n  <tbody>\n    <tr>\n      <th>0</th>\n      <td>AGENCY_ID</td>\n      <td>8</td>\n      <td>ABERNATHY POLICE DEPARTMENT</td>\n    </tr>\n    <tr>\n      <th>1</th>\n      <td>AGENCY_ID</td>\n      <td>9</td>\n      <td>ABILENE CHRISTIAN UNIVERSITY POLICE DEPARTMENT</td>\n    </tr>\n    <tr>\n      <th>2</th>\n      <td>AGENCY_ID</td>\n      <td>10</td>\n      <td>ABILENE POLICE DEPARTMENT</td>\n    </tr>\n    <tr>\n      <th>3</th>\n      <td>AGENCY_ID</td>\n      <td>12</td>\n      <td>ADDISON POLICE DEPARTMENT</td>\n    </tr>\n    <tr>\n      <th>4</th>\n      <td>AGENCY_ID</td>\n      <td>13</td>\n      <td>ALAMO COMMUNITY COLLEGE DISTRICT POLICE DEPART...</td>\n    </tr>\n  </tbody>\n</table>\n</div>"
     },
     "metadata": {},
     "execution_count": 27
    }
   ],
   "source": [
    "df.head()"
   ]
  },
  {
   "cell_type": "code",
   "execution_count": 28,
   "metadata": {},
   "outputs": [],
   "source": [
    "columns = df['ColumnName'].value_counts().to_frame()"
   ]
  },
  {
   "cell_type": "code",
   "execution_count": 29,
   "metadata": {},
   "outputs": [
    {
     "output_type": "execute_result",
     "data": {
      "text/plain": "['VEH_MOD_ID',\n 'AGENCY_ID',\n 'CITY_ID',\n 'INV_DA_ID',\n 'VEH_MAKE_ID',\n 'CNTY_ID',\n 'STATE_ID',\n 'DRVR_LIC_RESTRIC_ID',\n 'CONTRIB_FACTR_ID',\n 'OTHR_FACTR_ID',\n 'OBJ_STRUCK_ID',\n 'COLLSN_ID',\n 'CULVERT_TYPE_ID',\n 'VEH_DMAG_AREA_ID',\n 'BRIDGE_RTE_STRUCT_FUNC_ID',\n 'BRIDGE_IR_STRUCT_FUNC_ID',\n 'VEH_COLOR_ID',\n 'MPO_ID',\n 'CMV_EVENT_ID',\n 'CHARGE_CAT_ID',\n 'VEH_BODY_STYL_ID',\n 'RWY_SYS_ID',\n 'TRAFFIC_CNTL_ID',\n 'INV_REGION_ID',\n 'OCCPNT_POS_ID',\n 'CMV_CARGO_BODY_ID',\n 'PHYS_FEATR_ID',\n 'CMV_VEH_TYPE_ID',\n 'DRUG_CATEGORY_ID',\n 'HARM_EVNT_ID',\n 'REST_ID',\n 'ROAD_CLS_ID',\n 'VEH_DFCT_ID',\n 'DRVR_LIC_ENDORS_ID',\n 'WTHR_COND_ID',\n 'DRVR_LIC_CLS_ID',\n 'FUNC_SYS_ID',\n 'POP_GROUP_ID',\n 'WDCODE_ID',\n 'VEH_TRVL_DIR_ID',\n 'SURF_COND_ID',\n 'PRSN_TYPE_ID',\n 'VEH_DMAG_SCL_ID',\n 'ENTR_ROAD_ID',\n 'BRIDGE_SRVC_TYPE_ON_ID',\n 'BRIDGE_SRVC_TYPE_UNDER_ID',\n 'UNIT_DESC_ID',\n 'BRIDGE_DETAIL_ID',\n 'LIGHT_COND_ID',\n 'ROAD_ALGN_ID',\n 'AIRBAG_ID',\n 'INS_TYPE_ID',\n 'DRVR_LIC_TYPE_ID',\n 'ROAD_PART_ID',\n 'ETHNICITY_ID',\n 'ROAD_RELAT_ID',\n 'HELMET_ID',\n 'INJRY_SEV_ID',\n 'CRASH_SEV_ID',\n 'SURF_TYPE_ID',\n 'BUS_TYPE_ID',\n 'SPECIMEN_TYPE_ID',\n 'SHLDR_USE_ID',\n 'CARRIER_ID_TYPE_ID',\n 'EJCT_ID',\n 'CMV_VEH_OPER_ID',\n 'INTRSCT_RELAT_ID',\n 'ROAD_TYPE_ID',\n 'BRIDGE_LOADING_TYPE_ID',\n 'INS_PROOF_ID',\n 'TST_RESULT_ID',\n 'RURAL_URBAN_ID',\n 'INV_SERVICE_ID',\n 'HWY_DSGN_LANE_ID',\n 'CURB_TYPE_ID',\n 'MEDIAN_TYPE_ID',\n 'SHLDR_TYPE_ID',\n 'CMV_TRLR_TYPE_ID',\n 'BASE_TYPE_ID',\n 'CMV_ROAD_ACC_ID',\n 'GNDR_ID',\n 'BRIDGE_DIR_OF_TRAFFIC_ID',\n 'HWY_DSGN_HRT_ID',\n 'BRIDGE_MEDIAN_ID',\n 'POSCROSSING_ID',\n 'CURVE_TYPE_ID',\n 'DELTA_LEFT_RIGHT_ID']"
     },
     "metadata": {},
     "execution_count": 29
    }
   ],
   "source": [
    "columns = columns.index.values.tolist()\n",
    "columns"
   ]
  },
  {
   "cell_type": "markdown",
   "metadata": {},
   "source": [
    "haha! CRASH_SEV_ID is indeed listed."
   ]
  },
  {
   "cell_type": "code",
   "execution_count": 33,
   "metadata": {},
   "outputs": [
    {
     "output_type": "execute_result",
     "data": {
      "text/plain": "        ColumnName  ID            Description\n5486  CRASH_SEV_ID   0                UNKNOWN\n5487  CRASH_SEV_ID   1  INCAPACITATING INJURY\n5488  CRASH_SEV_ID   2     NON-INCAPACITATING\n5489  CRASH_SEV_ID   3        POSSIBLE INJURY\n5490  CRASH_SEV_ID   4                  FATAL\n5491  CRASH_SEV_ID   5            NOT INJURED\n5492  CRASH_SEV_ID  94       REPORTED INVALID\n5493  CRASH_SEV_ID  95           NOT REPORTED",
      "text/html": "<div>\n<style scoped>\n    .dataframe tbody tr th:only-of-type {\n        vertical-align: middle;\n    }\n\n    .dataframe tbody tr th {\n        vertical-align: top;\n    }\n\n    .dataframe thead th {\n        text-align: right;\n    }\n</style>\n<table border=\"1\" class=\"dataframe\">\n  <thead>\n    <tr style=\"text-align: right;\">\n      <th></th>\n      <th>ColumnName</th>\n      <th>ID</th>\n      <th>Description</th>\n    </tr>\n  </thead>\n  <tbody>\n    <tr>\n      <th>5486</th>\n      <td>CRASH_SEV_ID</td>\n      <td>0</td>\n      <td>UNKNOWN</td>\n    </tr>\n    <tr>\n      <th>5487</th>\n      <td>CRASH_SEV_ID</td>\n      <td>1</td>\n      <td>INCAPACITATING INJURY</td>\n    </tr>\n    <tr>\n      <th>5488</th>\n      <td>CRASH_SEV_ID</td>\n      <td>2</td>\n      <td>NON-INCAPACITATING</td>\n    </tr>\n    <tr>\n      <th>5489</th>\n      <td>CRASH_SEV_ID</td>\n      <td>3</td>\n      <td>POSSIBLE INJURY</td>\n    </tr>\n    <tr>\n      <th>5490</th>\n      <td>CRASH_SEV_ID</td>\n      <td>4</td>\n      <td>FATAL</td>\n    </tr>\n    <tr>\n      <th>5491</th>\n      <td>CRASH_SEV_ID</td>\n      <td>5</td>\n      <td>NOT INJURED</td>\n    </tr>\n    <tr>\n      <th>5492</th>\n      <td>CRASH_SEV_ID</td>\n      <td>94</td>\n      <td>REPORTED INVALID</td>\n    </tr>\n    <tr>\n      <th>5493</th>\n      <td>CRASH_SEV_ID</td>\n      <td>95</td>\n      <td>NOT REPORTED</td>\n    </tr>\n  </tbody>\n</table>\n</div>"
     },
     "metadata": {},
     "execution_count": 33
    }
   ],
   "source": [
    "df.loc[df['ColumnName'] == 'CRASH_SEV_ID']"
   ]
  },
  {
   "cell_type": "markdown",
   "metadata": {},
   "source": [
    "Accessing this data requires signing up for the CRIS database.\n",
    "\n",
    "https://www.txdot.gov/government/enforcement/data-access.html\n",
    "\n",
    "http://ftp.dot.state.tx.us/pub/txdot-info/trf/crash_statistics/automated/cris-guide.pdf\n",
    "\n",
    "https://cris.dot.state.tx.us/secure/Share/app/home/welcome\n",
    "\n",
    "You can only request one year of data at a time. I will be using data from the year 2019 (1/1-12/31) to build my model.\n"
   ]
  },
  {
   "cell_type": "markdown",
   "metadata": {},
   "source": [
    "It took about a day to get the data from the CRIS team, but once I did, it came in an encrypted zip file. Inside of that were several more zip files, and judging by the filenames, it's the data broken up into smaller date ranges.\n",
    "\n",
    "![title](img/1.png)\n",
    "\n",
    "I unzipped the first archive, and poked around the data. The file 'extract_public_2018_20200825003448_crash_20190101-20190301Texas.csv' had the target data, CRASH_SEV_ID. \n",
    "\n",
    "My first task is going to be extracting all of the data and pulling it into a pandas dataframe.\n"
   ]
  },
  {
   "cell_type": "code",
   "execution_count": null,
   "metadata": {},
   "outputs": [],
   "source": []
  }
 ]
}